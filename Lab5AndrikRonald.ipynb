{
 "cells": [
  {
   "cell_type": "markdown",
   "source": [
    "Lab 5 \n",
    "Andrik Solano Jimenez Ronald Arce Matamoros"
   ],
   "metadata": {
    "collapsed": false
   },
   "id": "eeb7e89ff9362b84"
  },
  {
   "cell_type": "markdown",
   "source": [
    "Librerías"
   ],
   "metadata": {
    "collapsed": false
   },
   "id": "9d780219da36ff8b"
  },
  {
   "cell_type": "code",
   "execution_count": 269,
   "outputs": [],
   "source": [
    "import os\n",
    "import random\n",
    "import pandas as pd\n",
    "from PIL import Image\n",
    "import cv2\n",
    "import matplotlib.pyplot as plt\n",
    "import numpy as np\n",
    "import matplotlib.image as mpimg  \n",
    "import tensorflow as tf\n",
    "from tensorflow.keras.models import Sequential\n",
    "from sklearn.model_selection import train_test_split\n",
    "from tensorflow.keras.layers import Conv2D, MaxPooling2D, Flatten, Dense, Dropout, BatchNormalization\n",
    "from tensorflow.keras.preprocessing.image import ImageDataGenerator\n",
    "from tensorflow.keras.optimizers import Adam\n",
    "from tensorflow.keras.callbacks import EarlyStopping, ModelCheckpoint\n",
    "physical_devices = tf.config.list_physical_devices('GPU')\n",
    "tf.config.experimental.set_visible_devices(physical_devices[0], 'GPU')\n"
   ],
   "metadata": {
    "collapsed": false,
    "ExecuteTime": {
     "end_time": "2024-05-11T06:36:23.691229700Z",
     "start_time": "2024-05-11T06:36:23.552598200Z"
    }
   },
   "id": "initial_id"
  },
  {
   "cell_type": "markdown",
   "source": [
    "Entendimiento de los datos"
   ],
   "metadata": {
    "collapsed": false
   },
   "id": "13c8eac016ef55d5"
  },
  {
   "cell_type": "code",
   "execution_count": null,
   "outputs": [],
   "source": [
    "def display_images_with_labels(path, num_images=6):\n",
    "    # Get a list of all image file names in the directory\n",
    "    image_files = [f for f in os.listdir(path) if os.path.isfile(os.path.join(path, f))]\n",
    "    \n",
    "    # Display the images with their labels\n",
    "    fig, axs = plt.subplots(2, 3, figsize=(15, 10))\n",
    "\n",
    "    for i in range(min(num_images, len(image_files))):\n",
    "        # Get the image file name and its label\n",
    "        image_file = image_files[i]\n",
    "        label = image_file.split('.')[0]\n",
    "\n",
    "        # Load and display the image\n",
    "        img_path = os.path.join(path, image_file)\n",
    "        img = mpimg.imread(img_path)\n",
    "        ax = axs[i // 3, i % 3]\n",
    "        ax.imshow(img)\n",
    "        ax.axis('off')\n",
    "        ax.set_title(label)\n",
    "\n",
    "    plt.tight_layout()\n",
    "    plt.show()\n",
    "\n",
    "# Example usage:\n",
    "path = \"./data/with_mask\"\n",
    "display_images_with_labels(path)\n",
    "\n",
    "path = \"./data/without_mask\"\n",
    "display_images_with_labels(path)"
   ],
   "metadata": {
    "collapsed": false
   },
   "id": "51f0ba2da7513007"
  },
  {
   "cell_type": "markdown",
   "source": [
    "Procesamiento de los datos"
   ],
   "metadata": {
    "collapsed": false
   },
   "id": "17f3ed2b0feb4288"
  },
  {
   "cell_type": "code",
   "execution_count": 271,
   "outputs": [],
   "source": [
    "batch_size = 10\n",
    "img_height = 100\n",
    "img_width = 100"
   ],
   "metadata": {
    "collapsed": false,
    "ExecuteTime": {
     "end_time": "2024-05-11T06:36:26.522659100Z",
     "start_time": "2024-05-11T06:36:26.509693200Z"
    }
   },
   "id": "206df757891005f4"
  },
  {
   "cell_type": "code",
   "execution_count": null,
   "outputs": [],
   "source": [
    "train_ds = tf.keras.utils.image_dataset_from_directory(\n",
    "    \"./data\",\n",
    "  validation_split=0.2,\n",
    "  subset=\"training\",\n",
    "  seed=123,\n",
    "  image_size=(img_height, img_width),\n",
    "  batch_size=batch_size)"
   ],
   "metadata": {
    "collapsed": false
   },
   "id": "d0d67eb4f12422da"
  },
  {
   "cell_type": "code",
   "execution_count": null,
   "outputs": [],
   "source": [
    "val_ds = tf.keras.utils.image_dataset_from_directory(\n",
    "  \"./data\",\n",
    "  validation_split=0.2,\n",
    "  subset=\"validation\",\n",
    "  seed=123,\n",
    "  image_size=(img_height, img_width),\n",
    "  batch_size=batch_size)"
   ],
   "metadata": {
    "collapsed": false
   },
   "id": "e5e031cf4b9bff0e"
  },
  {
   "cell_type": "code",
   "execution_count": null,
   "outputs": [],
   "source": [
    "class_names = train_ds.class_names\n",
    "print(class_names)"
   ],
   "metadata": {
    "collapsed": false
   },
   "id": "1da5f19b8a1479f1"
  },
  {
   "cell_type": "code",
   "execution_count": 275,
   "outputs": [],
   "source": [
    "normalization_layer = tf.keras.layers.Rescaling(1./255)"
   ],
   "metadata": {
    "collapsed": false,
    "ExecuteTime": {
     "end_time": "2024-05-11T06:36:28.957153200Z",
     "start_time": "2024-05-11T06:36:28.918254900Z"
    }
   },
   "id": "46a38018d86131ff"
  },
  {
   "cell_type": "code",
   "execution_count": null,
   "outputs": [],
   "source": [
    "normalized_ds = train_ds.map(lambda x, y: (normalization_layer(x), y))\n",
    "image_batch, labels_batch = next(iter(normalized_ds))\n",
    "first_image = image_batch[0]\n",
    "# Notice the pixel values are now in `[0,1]`.\n",
    "print(np.min(first_image), np.max(first_image))"
   ],
   "metadata": {
    "collapsed": false
   },
   "id": "e46b967270c9fd0a"
  },
  {
   "cell_type": "markdown",
   "source": [
    "Modelo Deep Learning"
   ],
   "metadata": {
    "collapsed": false
   },
   "id": "77497f95695a9eea"
  },
  {
   "cell_type": "code",
   "execution_count": 277,
   "outputs": [],
   "source": [
    "# Compilar el modelo\n",
    "num_classes = 2\n",
    "\n",
    "model = tf.keras.Sequential([\n",
    "  tf.keras.layers.Rescaling(1./255),\n",
    "  Conv2D(32, (3, 3), activation='relu', input_shape=(100, 100, 3)),\n",
    "Conv2D(32, (3, 3), activation='relu'),\n",
    "  MaxPooling2D(2, 2),\n",
    "  Conv2D(64, (3, 3), activation='relu'),\n",
    "  MaxPooling2D(2, 2),\n",
    "  tf.keras.layers.Conv2D(32, 3, activation='relu'),\n",
    "  tf.keras.layers.MaxPooling2D(),\n",
    "  tf.keras.layers.Flatten(),\n",
    "  tf.keras.layers.Dense(128, activation='relu'),\n",
    "  tf.keras.layers.Dropout(0.5), \n",
    "  tf.keras.layers.Dense(num_classes)\n",
    "])"
   ],
   "metadata": {
    "collapsed": false,
    "ExecuteTime": {
     "end_time": "2024-05-11T06:36:29.186537500Z",
     "start_time": "2024-05-11T06:36:29.134676600Z"
    }
   },
   "id": "c388bb31406e1b70"
  },
  {
   "cell_type": "code",
   "execution_count": null,
   "outputs": [],
   "source": [
    "# Define early stopping callback\n",
    "early_stopping = EarlyStopping(monitor='val_accuracy', patience=2, restore_best_weights=True)\n",
    "\n",
    "# Compile the model with a learning rate of 0.001\n",
    "optimizer = Adam(learning_rate=0.001)\n",
    "model.compile(\n",
    "  optimizer=optimizer,\n",
    "  loss=tf.losses.SparseCategoricalCrossentropy(from_logits=True),\n",
    "  metrics=['accuracy'])\n",
    "\n",
    "history = model.fit(\n",
    "  train_ds,\n",
    "  validation_data=val_ds,\n",
    "  epochs=10,\n",
    "callbacks=[early_stopping]\n",
    ")"
   ],
   "metadata": {
    "collapsed": false
   },
   "id": "3036a67e049ee354"
  },
  {
   "cell_type": "markdown",
   "source": [
    "Evaluacion"
   ],
   "metadata": {
    "collapsed": false
   },
   "id": "496b4d9b193bde26"
  },
  {
   "cell_type": "code",
   "execution_count": null,
   "outputs": [],
   "source": [
    "hist = history.history\n",
    "x_arr = np.arange(len(hist['loss'])) + 1\n",
    "\n",
    "fig = plt.figure(figsize=(12, 4))\n",
    "ax = fig.add_subplot(1, 2, 1)\n",
    "ax.plot(x_arr, hist['loss'], '-o', label='Train loss')\n",
    "ax.plot(x_arr, hist['val_loss'], '--<', label='Validation loss')\n",
    "ax.set_title(\"Training and validation loss\")\n",
    "ax.legend(fontsize=15)\n",
    "ax.set_xlabel('Epoch', size=15)\n",
    "ax.set_ylabel('Loss', size=15)\n",
    "\n",
    "ax = fig.add_subplot(1, 2, 2)\n",
    "ax.plot(x_arr, hist['accuracy'], '-o', label='Train acc.')\n",
    "ax.plot(x_arr, hist['val_accuracy'], '--<', label='Validation acc.')\n",
    "ax.set_title(\"Training and validation accuracy\")\n",
    "ax.legend(fontsize=15)\n",
    "ax.set_xlabel('Epoch', size=15)\n",
    "ax.set_ylabel('Accuracy', size=15)\n",
    "\n",
    "#plt.savefig('figures/15_18.png', dpi=300)\n",
    "plt.show()"
   ],
   "metadata": {
    "collapsed": false
   },
   "id": "16384b019778ac90"
  },
  {
   "cell_type": "code",
   "execution_count": 280,
   "outputs": [
    {
     "name": "stdout",
     "output_type": "stream",
     "text": [
      "151/151 [==============================] - 2s 10ms/step - loss: 0.1334 - accuracy: 0.9490\n",
      "Test Loss: 0.13343454897403717\n",
      "Test Accuracy: 0.9490066170692444\n"
     ]
    }
   ],
   "source": [
    "# Evaluate the model on the test data\n",
    "loss, accuracy = model.evaluate(val_ds)\n",
    "\n",
    "print(\"Test Loss:\", loss)\n",
    "print(\"Test Accuracy:\", accuracy)"
   ],
   "metadata": {
    "collapsed": false,
    "ExecuteTime": {
     "end_time": "2024-05-11T06:37:32.831403700Z",
     "start_time": "2024-05-11T06:37:31.228688200Z"
    }
   },
   "id": "3d897e749299f2da"
  },
  {
   "cell_type": "markdown",
   "source": [
    "Resultados"
   ],
   "metadata": {
    "collapsed": false
   },
   "id": "10b642925e972f6d"
  }
 ],
 "metadata": {
  "kernelspec": {
   "display_name": "Python 3",
   "language": "python",
   "name": "python3"
  },
  "language_info": {
   "codemirror_mode": {
    "name": "ipython",
    "version": 2
   },
   "file_extension": ".py",
   "mimetype": "text/x-python",
   "name": "python",
   "nbconvert_exporter": "python",
   "pygments_lexer": "ipython2",
   "version": "2.7.6"
  }
 },
 "nbformat": 4,
 "nbformat_minor": 5
}
