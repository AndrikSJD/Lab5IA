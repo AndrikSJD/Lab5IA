{
 "cells": [
  {
   "cell_type": "markdown",
   "source": [
    "Lab 5 \n",
    "Andrik Solano Jimenez Ronald Arce Matamoros"
   ],
   "metadata": {
    "collapsed": false
   },
   "id": "eeb7e89ff9362b84"
  },
  {
   "cell_type": "markdown",
   "source": [
    "Libreríaas"
   ],
   "metadata": {
    "collapsed": false
   },
   "id": "9d780219da36ff8b"
  },
  {
   "cell_type": "code",
   "execution_count": 7,
   "outputs": [],
   "source": [
    "import os\n",
    "import random\n",
    "import numpy as np\n",
    "from PIL import Image\n",
    "import cv2\n",
    "from sklearn.model_selection import train_test_split\n",
    "from tensorflow.keras.models import Sequential\n",
    "from tensorflow.keras.layers import Conv2D, MaxPooling2D, Flatten, Dense, Dropout\n",
    "from tensorflow.keras.preprocessing.image import ImageDataGenerator\n",
    "from tensorflow.keras.optimizers import Adam\n",
    "from tensorflow.keras.utils import to_categorical\n"
   ],
   "metadata": {
    "collapsed": false,
    "ExecuteTime": {
     "end_time": "2024-05-11T03:23:16.761165200Z",
     "start_time": "2024-05-11T03:23:16.628520300Z"
    }
   },
   "id": "initial_id"
  },
  {
   "cell_type": "code",
   "execution_count": 8,
   "outputs": [
    {
     "ename": "KeyboardInterrupt",
     "evalue": "",
     "output_type": "error",
     "traceback": [
      "\u001B[1;31m---------------------------------------------------------------------------\u001B[0m",
      "\u001B[1;31mKeyboardInterrupt\u001B[0m                         Traceback (most recent call last)",
      "Cell \u001B[1;32mIn[8], line 18\u001B[0m\n\u001B[0;32m     15\u001B[0m     \u001B[38;5;28;01mreturn\u001B[39;00m images, labels\n\u001B[0;32m     17\u001B[0m \u001B[38;5;66;03m# Cargar y redimensionar imágenes con máscara\u001B[39;00m\n\u001B[1;32m---> 18\u001B[0m with_mask_images, with_mask_labels \u001B[38;5;241m=\u001B[39m \u001B[43mload_and_resize_images\u001B[49m\u001B[43m(\u001B[49m\u001B[43mwith_mask_dir\u001B[49m\u001B[43m,\u001B[49m\u001B[43m \u001B[49m\u001B[38;5;241;43m1\u001B[39;49m\u001B[43m)\u001B[49m\n\u001B[0;32m     20\u001B[0m \u001B[38;5;66;03m# Cargar y redimensionar imágenes sin máscara\u001B[39;00m\n\u001B[0;32m     21\u001B[0m without_mask_images, without_mask_labels \u001B[38;5;241m=\u001B[39m load_and_resize_images(without_mask_dir, \u001B[38;5;241m0\u001B[39m)\n",
      "Cell \u001B[1;32mIn[8], line 10\u001B[0m, in \u001B[0;36mload_and_resize_images\u001B[1;34m(directory, label)\u001B[0m\n\u001B[0;32m      8\u001B[0m labels \u001B[38;5;241m=\u001B[39m []\n\u001B[0;32m      9\u001B[0m \u001B[38;5;28;01mfor\u001B[39;00m filename \u001B[38;5;129;01min\u001B[39;00m os\u001B[38;5;241m.\u001B[39mlistdir(directory):\n\u001B[1;32m---> 10\u001B[0m     img \u001B[38;5;241m=\u001B[39m \u001B[43mcv2\u001B[49m\u001B[38;5;241;43m.\u001B[39;49m\u001B[43mimread\u001B[49m\u001B[43m(\u001B[49m\u001B[43mos\u001B[49m\u001B[38;5;241;43m.\u001B[39;49m\u001B[43mpath\u001B[49m\u001B[38;5;241;43m.\u001B[39;49m\u001B[43mjoin\u001B[49m\u001B[43m(\u001B[49m\u001B[43mdirectory\u001B[49m\u001B[43m,\u001B[49m\u001B[43m \u001B[49m\u001B[43mfilename\u001B[49m\u001B[43m)\u001B[49m\u001B[43m)\u001B[49m\n\u001B[0;32m     11\u001B[0m     img \u001B[38;5;241m=\u001B[39m cv2\u001B[38;5;241m.\u001B[39mresize(img, (\u001B[38;5;241m100\u001B[39m, \u001B[38;5;241m100\u001B[39m))  \u001B[38;5;66;03m# Cambia el tamaño de las imágenes según tu preferencia\u001B[39;00m\n\u001B[0;32m     12\u001B[0m     \u001B[38;5;28;01mif\u001B[39;00m img \u001B[38;5;129;01mis\u001B[39;00m \u001B[38;5;129;01mnot\u001B[39;00m \u001B[38;5;28;01mNone\u001B[39;00m:\n",
      "\u001B[1;31mKeyboardInterrupt\u001B[0m: "
     ]
    }
   ],
   "source": [
    "# Ruta de las carpetas con las imágenes\n",
    "with_mask_dir = \"./with_mask\"\n",
    "without_mask_dir = \"./without_mask\"\n",
    "\n",
    "# Función para cargar y redimensionar imágenes\n",
    "def load_and_resize_images(directory, label):\n",
    "    images = []\n",
    "    labels = []\n",
    "    for filename in os.listdir(directory):\n",
    "        img = cv2.imread(os.path.join(directory, filename))\n",
    "        img = cv2.resize(img, (100, 100))  # Cambia el tamaño de las imágenes según tu preferencia\n",
    "        if img is not None:\n",
    "            images.append(img)\n",
    "            labels.append(label)\n",
    "    return images, labels\n",
    "\n",
    "# Cargar y redimensionar imágenes con máscara\n",
    "with_mask_images, with_mask_labels = load_and_resize_images(with_mask_dir, 1)\n",
    "\n",
    "# Cargar y redimensionar imágenes sin máscara\n",
    "without_mask_images, without_mask_labels = load_and_resize_images(without_mask_dir, 0)"
   ],
   "metadata": {
    "collapsed": false,
    "ExecuteTime": {
     "end_time": "2024-05-11T03:23:21.969324900Z",
     "start_time": "2024-05-11T03:23:16.655448300Z"
    }
   },
   "id": "5b6ce8c062cea197"
  },
  {
   "cell_type": "markdown",
   "source": [
    "Entendimiento de los datos"
   ],
   "metadata": {
    "collapsed": false
   },
   "id": "13c8eac016ef55d5"
  },
  {
   "cell_type": "markdown",
   "source": [
    "Procesamiento de los datos"
   ],
   "metadata": {
    "collapsed": false
   },
   "id": "17f3ed2b0feb4288"
  },
  {
   "cell_type": "code",
   "execution_count": null,
   "outputs": [],
   "source": [
    "# Combinar imágenes y etiquetas\n",
    "images = np.array(with_mask_images + without_mask_images)\n",
    "labels = np.array(with_mask_labels + without_mask_labels)\n",
    "\n",
    "# Dividir los datos en entrenamiento, validación y prueba\n",
    "X_train, X_test, y_train, y_test = train_test_split(images, labels, test_size=0.2, random_state=42)\n",
    "X_train, X_val, y_train, y_val = train_test_split(X_train, y_train, test_size=0.2, random_state=42)\n",
    "\n",
    "# Normalizar los valores de píxeles\n",
    "X_train = X_train / 255.0\n",
    "X_val = X_val / 255.0\n",
    "X_test = X_test / 255.0\n",
    "\n",
    "# Convertir etiquetas a formato one-hot encoding\n",
    "y_train = to_categorical(y_train)\n",
    "y_val = to_categorical(y_val)\n",
    "y_test = to_categorical(y_test)"
   ],
   "metadata": {
    "collapsed": false,
    "ExecuteTime": {
     "end_time": "2024-05-11T03:23:21.981290400Z",
     "start_time": "2024-05-11T03:23:21.974309600Z"
    }
   },
   "id": "a82ae4976eade5c"
  },
  {
   "cell_type": "code",
   "execution_count": null,
   "outputs": [],
   "source": [],
   "metadata": {
    "collapsed": false
   },
   "id": "87cc6542d0d144e2"
  },
  {
   "cell_type": "code",
   "execution_count": null,
   "outputs": [],
   "source": [
    "# Crear el generador de datos de imagen para aumentación de datos\n",
    "train_datagen = ImageDataGenerator(\n",
    "    rescale=1./255,\n",
    "    rotation_range=40,\n",
    "    width_shift_range=0.2,\n",
    "    height_shift_range=0.2,\n",
    "    shear_range=0.2,\n",
    "    zoom_range=0.2,\n",
    "    horizontal_flip=True,\n",
    "    fill_mode='nearest'\n",
    ")\n",
    "\n",
    "# Ajustar el generador de datos de imagen a los datos de entrenamiento\n",
    "train_datagen.fit(X_train)"
   ],
   "metadata": {
    "collapsed": false,
    "ExecuteTime": {
     "start_time": "2024-05-11T03:23:21.978301400Z"
    }
   },
   "id": "189e6a3df20441f1"
  },
  {
   "cell_type": "markdown",
   "source": [
    "Modelo Deep Learning"
   ],
   "metadata": {
    "collapsed": false
   },
   "id": "77497f95695a9eea"
  },
  {
   "cell_type": "code",
   "execution_count": null,
   "outputs": [],
   "source": [
    "# Compilar el modelo\n",
    "model = Sequential([\n",
    "    Conv2D(32, (3, 3), activation='relu', input_shape=(100, 100, 3)),\n",
    "    MaxPooling2D(2, 2),\n",
    "    Conv2D(64, (3, 3), activation='relu'),\n",
    "    MaxPooling2D(2, 2),\n",
    "    Conv2D(128, (3, 3), activation='relu'),\n",
    "    MaxPooling2D(2, 2),\n",
    "    Conv2D(256, (3, 3), activation='relu'),\n",
    "    MaxPooling2D(2, 2),\n",
    "    Flatten(),\n",
    "    Dropout(0.3),\n",
    "    Dense(512, activation='relu'),\n",
    "    Dropout(0.3),\n",
    "    Dense(256, activation='relu'),\n",
    "    Dense(1, activation='sigmoid')\n",
    "])"
   ],
   "metadata": {
    "collapsed": false,
    "ExecuteTime": {
     "start_time": "2024-05-11T03:23:21.983285800Z"
    }
   },
   "id": "c388bb31406e1b70"
  },
  {
   "cell_type": "code",
   "execution_count": null,
   "outputs": [],
   "source": [
    "# Compilar el modelo con el optimizador Adam\n",
    "model.compile(optimizer='adam', loss='binary_crossentropy', metrics=['accuracy'])\n",
    "\n",
    "\n",
    "# Entrenar el modelo\n",
    "history = model.fit(\n",
    "    train_datagen.flow(X_train, y_train, batch_size=32),\n",
    "    steps_per_epoch=len(X_train) / 32,\n",
    "    epochs=20,\n",
    "    validation_data=(X_val, y_val),\n",
    "    verbose=1\n",
    ")\n"
   ],
   "metadata": {
    "collapsed": false,
    "ExecuteTime": {
     "start_time": "2024-05-11T03:23:21.986278600Z"
    }
   },
   "id": "f09273cabb87015"
  },
  {
   "cell_type": "markdown",
   "source": [
    "Evaluacion"
   ],
   "metadata": {
    "collapsed": false
   },
   "id": "496b4d9b193bde26"
  },
  {
   "cell_type": "code",
   "execution_count": 9,
   "outputs": [
    {
     "name": "stdout",
     "output_type": "stream",
     "text": [
      "48/48 [==============================] - 1s 14ms/step - loss: 16.8883 - accuracy: 0.9523\n",
      "Test accuracy: 0.9523494243621826\n"
     ]
    }
   ],
   "source": [
    "# Evaluar el modelo en el conjunto de prueba\n",
    "test_loss, test_accuracy = model.evaluate(X_test, y_test)\n",
    "print(\"Test accuracy:\", test_accuracy)"
   ],
   "metadata": {
    "collapsed": false,
    "ExecuteTime": {
     "end_time": "2024-05-11T03:23:27.413335600Z",
     "start_time": "2024-05-11T03:23:26.564199900Z"
    }
   },
   "id": "968699f89a06f78c"
  },
  {
   "cell_type": "markdown",
   "source": [
    "Resultados"
   ],
   "metadata": {
    "collapsed": false
   },
   "id": "10b642925e972f6d"
  }
 ],
 "metadata": {
  "kernelspec": {
   "display_name": "Python 3",
   "language": "python",
   "name": "python3"
  },
  "language_info": {
   "codemirror_mode": {
    "name": "ipython",
    "version": 2
   },
   "file_extension": ".py",
   "mimetype": "text/x-python",
   "name": "python",
   "nbconvert_exporter": "python",
   "pygments_lexer": "ipython2",
   "version": "2.7.6"
  }
 },
 "nbformat": 4,
 "nbformat_minor": 5
}
